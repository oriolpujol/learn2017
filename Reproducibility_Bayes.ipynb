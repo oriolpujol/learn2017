{
 "cells": [
  {
   "cell_type": "markdown",
   "metadata": {},
   "source": [
    "<small><b>CCBY:</b> Un notebook d'Oriol Pujol.</small>"
   ]
  },
  {
   "cell_type": "markdown",
   "metadata": {},
   "source": [
    "# Una de romans: el coneixement independent de l'observador (aka tirant de notebook com qui no vol la cosa)"
   ]
  },
  {
   "cell_type": "markdown",
   "metadata": {},
   "source": [
    "<img src = \"SPQR-Legionario.jpeg\" width=40%>"
   ]
  },
  {
   "cell_type": "markdown",
   "metadata": {},
   "source": [
    "Imaginem el següent cas:\n",
    "\n",
    "No tenim clar si els romans han estat a la peninsula i vull construir coneixement al respecte. A tal efecte consideraré les evidències a favor i evidències en contra. \n",
    "\n",
    "Per exemple:\n",
    "\n",
    "    - Llibre grec que diu que els romans no han anat mai. \n",
    "    - Jaciment \"romà\" que després de treballar-hi comprovem que només hi ha elements romans però que és grec. \n",
    "    - Un jaciment Romà on trobem una sepultura d'un emperador degudament acreditada.\n",
    "    - ...\n",
    "\n",
    "La meva pregunta és: Fins a quin punt han estat els romans a la peninsula ibèrica?. "
   ]
  },
  {
   "cell_type": "markdown",
   "metadata": {},
   "source": [
    "<div class = \"alert alert-warning\" style =\"border-radius:10px\">A efectes d'aquest notebook faré servir el següent model, que entenem que no és conegut i que ens indica el suport de les evidencies cap a cadascuna de les posicions: Sí hi han estat (1) o No hi han estat (0).\n",
    "    <p>\n",
    "$m\\sim \\mathbb{B}e(p = 0.7)$\n",
    "\n",
    "</div>"
   ]
  },
  {
   "cell_type": "code",
   "execution_count": 44,
   "metadata": {},
   "outputs": [],
   "source": [
    "import numpy as np\n",
    "import matplotlib.pyplot as plt"
   ]
  },
  {
   "cell_type": "markdown",
   "metadata": {},
   "source": [
    "Imaginem que hem trobat dues evidències: "
   ]
  },
  {
   "cell_type": "code",
   "execution_count": 45,
   "metadata": {},
   "outputs": [],
   "source": [
    "np.random.seed(11)\n",
    "toss=np.random.binomial(1,0.7,size=2)"
   ]
  },
  {
   "cell_type": "code",
   "execution_count": 46,
   "metadata": {
    "scrolled": false
   },
   "outputs": [
    {
     "data": {
      "text/plain": [
       "<BarContainer object of 2 artists>"
      ]
     },
     "execution_count": 46,
     "metadata": {},
     "output_type": "execute_result"
    },
    {
     "data": {
      "image/png": "[encoded data removed]",
      "text/plain": [
       "<Figure size 432x288 with 1 Axes>"
      ]
     },
     "metadata": {
      "needs_background": "light"
     },
     "output_type": "display_data"
    }
   ],
   "source": [
    "plt.bar(np.arange(len(toss)),toss)"
   ]
  },
  {
   "cell_type": "markdown",
   "metadata": {},
   "source": [
    "Resulta que les dues evidències donen suport a la presència romana a la peninsula. Però, amb dues evidències\n",
    "\n",
    "+ fins a quin punt puc creure que realment han estat? \n",
    "+ A més, depén la conclusió del que jo penso que va passar?"
   ]
  },
  {
   "cell_type": "markdown",
   "metadata": {},
   "source": [
    "Per fer-ho necessitem tenir un cert nivell de creencia en aquesta moneda. Podria imaginar que sembre treu cara, o que sempre creu, o que qualsevol resultat es possible, o que hi ha alguns que crec que son millors."
   ]
  },
  {
   "cell_type": "markdown",
   "metadata": {},
   "source": [
    "<div class = \"alert alert-success\" style =\"border-radius:10px\">Observeu que aquesta creença inicial o coneixement \n",
    "<em>a priori </em> és independent del que observem i és introspectiu. I puc creure el que vulgui. Millor si esta suportat per alguna justificació.\n",
    "</div>"
   ]
  },
  {
   "cell_type": "markdown",
   "metadata": {},
   "source": [
    "Anem a suposar que estic obert a qualsevol opció i que crec que el grau de penetració dels romans a la peninsula pot ser qualsevol valor."
   ]
  },
  {
   "cell_type": "code",
   "execution_count": 48,
   "metadata": {
    "scrolled": true
   },
   "outputs": [
    {
     "data": {
      "text/plain": [
       "[<matplotlib.lines.Line2D at 0x7fd889213a50>]"
      ]
     },
     "execution_count": 48,
     "metadata": {},
     "output_type": "execute_result"
    },
    {
     "data": {
      "image/png": "[encoded data removed]",
      "text/plain": [
       "<Figure size 432x288 with 1 Axes>"
      ]
     },
     "metadata": {
      "needs_background": "light"
     },
     "output_type": "display_data"
    }
   ],
   "source": [
    "N=100\n",
    "p = np.linspace(0,1,N)\n",
    "\n",
    "belief = np.ones((N,1))\n",
    "belief = belief/np.sum(belief)\n",
    "plt.plot(p,belief)"
   ]
  },
  {
   "cell_type": "markdown",
   "metadata": {},
   "source": [
    "Recordem la regla de Bayes per ajustar la nostra creença a partir d'una evidencia:\n",
    "\n",
    "\n",
    "$$P(C|E) = \\frac{P(E|C)P(C)}{P(E)}= \\underset{\\text{Modificador}}{\\underbrace{\\frac{P(E|C)}{P(E)}}}\\;\\underset{\\text{Creença}}{\\underbrace{P(C)}}$$"
   ]
  },
  {
   "cell_type": "markdown",
   "metadata": {},
   "source": [
    "Com modifiquem la creença? Faré servir una distribució conjugada (el resultat sera un altre cop una binomial/Bernoulli en el nostre cas)."
   ]
  },
  {
   "cell_type": "markdown",
   "metadata": {},
   "source": [
    "En el cas que tinguem evidencies positives (1) tindrem el següent modificador:"
   ]
  },
  {
   "cell_type": "code",
   "execution_count": 50,
   "metadata": {},
   "outputs": [
    {
     "data": {
      "text/plain": [
       "Text(0.5, 1.0, 'No Romans')"
      ]
     },
     "execution_count": 50,
     "metadata": {},
     "output_type": "execute_result"
    },
    {
     "data": {
      "image/png": "[encoded data removed]",
      "text/plain": [
       "<Figure size 432x288 with 2 Axes>"
      ]
     },
     "metadata": {
      "needs_background": "light"
     },
     "output_type": "display_data"
    }
   ],
   "source": [
    "N=100\n",
    "p = np.linspace(0,1,N)\n",
    "\n",
    "cara = p[:,np.newaxis]*np.ones((N,1))\n",
    "cara = cara/np.sum(cara,axis=0)\n",
    "creu = (1-p[:,np.newaxis])*np.ones((N,1))\n",
    "creu = creu/np.sum(creu,axis=0)\n",
    "plt.subplot(1,3,1)\n",
    "plt.plot(p,cara)\n",
    "plt.title('Romans')\n",
    "plt.subplot(1,3,3)\n",
    "plt.plot(p,creu)\n",
    "plt.title('No Romans')"
   ]
  },
  {
   "cell_type": "markdown",
   "metadata": {},
   "source": [
    "Si apliquem aquest mètode a les nostres observacions canvia la nostra creença despres de cada observació."
   ]
  },
  {
   "cell_type": "code",
   "execution_count": 51,
   "metadata": {},
   "outputs": [],
   "source": [
    "for t in toss:\n",
    "    if t>0:\n",
    "        belief = belief*cara\n",
    "    else:\n",
    "        belief = belief*creu\n",
    "    belief = belief/np.sum(belief,axis=0)"
   ]
  },
  {
   "cell_type": "markdown",
   "metadata": {},
   "source": [
    "Anem a veure com ha canviat la meva creença:"
   ]
  },
  {
   "cell_type": "code",
   "execution_count": 52,
   "metadata": {},
   "outputs": [
    {
     "data": {
      "text/plain": [
       "[<matplotlib.lines.Line2D at 0x7fd889308050>]"
      ]
     },
     "execution_count": 52,
     "metadata": {},
     "output_type": "execute_result"
    },
    {
     "data": {
      "image/png": "[encoded data removed]",
      "text/plain": [
       "<Figure size 432x288 with 1 Axes>"
      ]
     },
     "metadata": {
      "needs_background": "light"
     },
     "output_type": "display_data"
    }
   ],
   "source": [
    "plt.plot(belief)"
   ]
  },
  {
   "cell_type": "markdown",
   "metadata": {},
   "source": [
    "Però a mesura que anem trobant troballes podem anar actualitzant la nostra creença sobre la presència romana a la península. Imaginem ara que hem trobat 1000 evidències."
   ]
  },
  {
   "cell_type": "code",
   "execution_count": 53,
   "metadata": {},
   "outputs": [
    {
     "data": {
      "text/plain": [
       "Text(0.5, 1.0, 'Creença inicial')"
      ]
     },
     "execution_count": 53,
     "metadata": {},
     "output_type": "execute_result"
    },
    {
     "data": {
      "image/png": "[encoded data removed]",
      "text/plain": [
       "<Figure size 432x288 with 1 Axes>"
      ]
     },
     "metadata": {
      "needs_background": "light"
     },
     "output_type": "display_data"
    }
   ],
   "source": [
    "toss=np.random.binomial(1,0.7,size=1000)\n",
    "\n",
    "N=100\n",
    "p = np.linspace(0,1,N)\n",
    "\n",
    "belief = np.ones((N,1))\n",
    "belief = belief/np.sum(belief)\n",
    "plt.plot(p,belief)\n",
    "plt.title('Creença inicial')\n"
   ]
  },
  {
   "cell_type": "code",
   "execution_count": 54,
   "metadata": {},
   "outputs": [
    {
     "data": {
      "text/plain": [
       "Text(0.5, 1.0, 'Creença final')"
      ]
     },
     "execution_count": 54,
     "metadata": {},
     "output_type": "execute_result"
    },
    {
     "data": {
      "image/png": "[encoded data removed]",
      "text/plain": [
       "<Figure size 432x288 with 1 Axes>"
      ]
     },
     "metadata": {
      "needs_background": "light"
     },
     "output_type": "display_data"
    }
   ],
   "source": [
    "for t in toss:\n",
    "    if t>0:\n",
    "        belief = belief*cara\n",
    "    else:\n",
    "        belief = belief*creu\n",
    "    belief = belief/np.sum(belief,axis=0)\n",
    "\n",
    "plt.plot(p,belief)\n",
    "plt.title('Creença final')"
   ]
  },
  {
   "cell_type": "markdown",
   "metadata": {},
   "source": [
    "# El cas de l'esceptic "
   ]
  },
  {
   "cell_type": "markdown",
   "metadata": {},
   "source": [
    "Com que soc un HATER vaig a intentar desmuntar aquest sistema. Jo crec que fermament que els romans mai han estat a la penínisula. Només per fastiguejar-nos. "
   ]
  },
  {
   "cell_type": "markdown",
   "metadata": {},
   "source": [
    "A excepció que sigui un imposibilista (negacionista extrem) assignaré una creença negligible a la resta pero més gran a zero."
   ]
  },
  {
   "cell_type": "code",
   "execution_count": 55,
   "metadata": {},
   "outputs": [
    {
     "name": "stdout",
     "output_type": "stream",
     "text": [
      "Creença en la resta:  [1.e-20]\n"
     ]
    },
    {
     "data": {
      "image/png": "[encoded data removed]",
      "text/plain": [
       "<Figure size 432x288 with 1 Axes>"
      ]
     },
     "metadata": {
      "needs_background": "light"
     },
     "output_type": "display_data"
    }
   ],
   "source": [
    "N=100\n",
    "p = np.linspace(0,1,N)\n",
    "\n",
    "belief = 1e-20*np.ones((N,1))\n",
    "belief[0] = 1\n",
    "belief = belief/np.sum(belief)\n",
    "plt.plot(p,belief)\n",
    "plt.title('Creença inicial')\n",
    "print('Creença en la resta: ',belief[3])"
   ]
  },
  {
   "cell_type": "markdown",
   "metadata": {},
   "source": [
    "Anem a repetir l'experiment"
   ]
  },
  {
   "cell_type": "code",
   "execution_count": 56,
   "metadata": {},
   "outputs": [
    {
     "data": {
      "text/plain": [
       "Text(0.5, 1.0, 'Creença final')"
      ]
     },
     "execution_count": 56,
     "metadata": {},
     "output_type": "execute_result"
    },
    {
     "data": {
      "image/png": "[encoded data removed]",
      "text/plain": [
       "<Figure size 432x288 with 1 Axes>"
      ]
     },
     "metadata": {
      "needs_background": "light"
     },
     "output_type": "display_data"
    }
   ],
   "source": [
    "toss=np.random.binomial(1,0.7,size=1000)\n",
    "for t in toss:\n",
    "    if t>0:\n",
    "        belief = belief*cara\n",
    "    else:\n",
    "        belief = belief*creu\n",
    "    belief = belief/np.sum(belief,axis=0)\n",
    "\n",
    "plt.plot(p,belief)\n",
    "plt.title('Creença final')"
   ]
  },
  {
   "cell_type": "markdown",
   "metadata": {},
   "source": [
    "Pots ser un HATER però el sistema funciona!!!!!"
   ]
  },
  {
   "cell_type": "markdown",
   "metadata": {},
   "source": [
    "De fet la nostra creença inicial és irrellevant donades suficients evidències. "
   ]
  },
  {
   "cell_type": "code",
   "execution_count": null,
   "metadata": {},
   "outputs": [],
   "source": []
  }
 ],
 "metadata": {
  "kernelspec": {
   "display_name": "Python 3",
   "language": "python",
   "name": "python3"
  },
  "language_info": {
   "codemirror_mode": {
    "name": "ipython",
    "version": 3
   },
   "file_extension": ".py",
   "mimetype": "text/x-python",
   "name": "python",
   "nbconvert_exporter": "python",
   "pygments_lexer": "ipython3",
   "version": "3.7.4"
  }
 },
 "nbformat": 4,
 "nbformat_minor": 2
}
